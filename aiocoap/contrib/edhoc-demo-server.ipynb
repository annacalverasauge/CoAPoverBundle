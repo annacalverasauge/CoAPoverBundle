{
 "cells": [
  {
   "cell_type": "markdown",
   "metadata": {},
   "source": "# Running EDHOC with the public demo server\n\nThis demo can be run on the public Jupyter instance at [try Jupyter](https://jupyter.org/try-jupyter/lab/index.html) by uploading this file."
  },
  {
   "cell_type": "code",
   "execution_count": 1,
   "metadata": {
    "trusted": true
   },
   "outputs": [],
   "source": [
    "import micropip, pyodide\n",
    "\n",
    "if pyodide.__version__ == \"0.26.2\":  # get it from the nightl\n",
    "    await micropip.install(\n",
    "        \"https://cdn.jsdelivr.net/pyodide/dev/full/lakers_python-0.3.3-cp312-cp312-pyodide_2024_0_wasm32.whl\"\n",
    "    )\n",
    "await micropip.install(\"aiocoap[oscore,prettyprint]\")"
   ]
  },
  {
   "cell_type": "code",
   "execution_count": 2,
   "metadata": {
    "trusted": true
   },
   "outputs": [],
   "source": [
    "from aiocoap import *\n",
    "from aiocoap import message, edhoc, transports\n",
    "\n",
    "ctx = await Context.create_client_context()"
   ]
  },
  {
   "cell_type": "code",
   "execution_count": 3,
   "metadata": {
    "trusted": true
   },
   "outputs": [],
   "source": [
    "ephemeral = edhoc.CoseKeyForEdhoc.generate()\n",
    "for_demo = {\n",
    "    \"coap://demo.coap.amsuess.com/*\": {\n",
    "        \"edhoc-oscore\": {\n",
    "            \"suite\": 2,\n",
    "            \"method\": 3,\n",
    "            \"own_cred_style\": \"by-value\",\n",
    "            # with current lakers, we need kid and scope even if we don't access them anywhere\n",
    "            \"own_cred\": ephemeral.as_ccs(kid=\"\\x01\", subject=\"2\"),\n",
    "            \"private_key\": ephemeral.secret_to_map(),\n",
    "            \"peer_cred\": {\n",
    "                14: {\n",
    "                    2: \"demo.coap.amsuess.com\",\n",
    "                    8: {\n",
    "                        1: {\n",
    "                            1: 2,\n",
    "                            2: b\"\\0\",\n",
    "                            -1: 1,\n",
    "                            -2: bytes.fromhex(\n",
    "                                \"b9cc746df6641d55044478b29df019ef22b4d2e96ffcf8de85434e5d0f27c33c\"\n",
    "                            ),\n",
    "                            -3: bytes.fromhex(\n",
    "                                \"e14e87330d093b469b121c3d0e4d9452cb90036a6e209f21f37d35d2a05c426c\"\n",
    "                            ),\n",
    "                        }\n",
    "                    },\n",
    "                }\n",
    "            },\n",
    "        }\n",
    "    }\n",
    "}\n",
    "ctx.client_credentials.load_from_dict(for_demo)"
   ]
  },
  {
   "cell_type": "code",
   "execution_count": 5,
   "metadata": {
    "trusted": true
   },
   "outputs": [
    {
     "data": {
      "text/html": "<details style=\"padding-left:1em\"><summary style=\"margin-left:-1em;display:list-item;\">Message with code <abbr title=\"Successful Response Code 2.05\">CONTENT</abbr>, remote &lt;OSCOREAddress in context &lt;aiocoap.edhoc.EdhocInitiatorContext object at 0xfb8e00&gt; to &lt;WSRemote at 0x12b3d78, hostinfo proxy.coap.amsuess.com, local localhost&gt;&gt;</summary>\n                <details><summary style=\"display:list-item\">1 option</summary><ol><li value=\"12\"><abbr title=\"option 12: elective, safe-to-forward, part of the cache key\">CONTENT_FORMAT</abbr>: <abbr title=\"Content format 0, named ContentFormat.TEXT\">text/plain; charset=utf-8</abbr></ol></details><div><pre>Used protocol: coap.\nRequest came from [2a01:4f8:190:3064::6]:53366.\nThe server address used [2a01:4f8:190:3064::6].\nAuthenticated claims of the client: &#x27;:anybody&#x27;.</pre></div>",
      "text/plain": "<aiocoap.Message at 0x356bb28: no mtype, 2.05 Content (no MID, empty token) remote <OSCOREAddress in context <aiocoap.edhoc.EdhocInitiatorContext object at 0xfb8e00> to <WSRemote at 0x12b3d78, hostinfo proxy.coap.amsuess.com, local localhost>>, 1 option(s), 164 byte(s) payload>"
     },
     "execution_count": 5,
     "metadata": {},
     "output_type": "execute_result"
    }
   ],
   "source": [
    "req = Message(code=GET, uri=\"coap://demo.coap.amsuess.com/whoami\")\n",
    "# FIXME: We should have a prettier way to set a proxy\n",
    "req.opt.proxy_scheme = \"coap\"\n",
    "req.remote = message.UndecidedRemote.from_pathless_uri(\n",
    "    \"coaps+ws://proxy.coap.amsuess.com\"\n",
    ")\n",
    "res = await ctx.request(req).response\n",
    "res"
   ]
  }
 ],
 "metadata": {
  "kernelspec": {
   "display_name": "Python (Pyodide)",
   "language": "python",
   "name": "python"
  },
  "language_info": {
   "codemirror_mode": {
    "name": "python",
    "version": 3
   },
   "file_extension": ".py",
   "mimetype": "text/x-python",
   "name": "python",
   "nbconvert_exporter": "python",
   "pygments_lexer": "ipython3",
   "version": "3.8"
  }
 },
 "nbformat": 4,
 "nbformat_minor": 4
}